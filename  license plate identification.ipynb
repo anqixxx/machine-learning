{
  "nbformat": 4,
  "nbformat_minor": 0,
  "metadata": {
    "colab": {
      "provenance": [],
      "collapsed_sections": [],
      "include_colab_link": true
    },
    "kernelspec": {
      "name": "python3",
      "display_name": "Python 3"
    },
    "accelerator": "GPU"
  },
  "cells": [
    {
      "cell_type": "markdown",
      "metadata": {
        "id": "view-in-github",
        "colab_type": "text"
      },
      "source": [
        "<a href=\"https://colab.research.google.com/github/anqixxx/machine-learning/blob/main/%20license%20plate%20identification.ipynb\" target=\"_parent\"><img src=\"https://colab.research.google.com/assets/colab-badge.svg\" alt=\"Open In Colab\"/></a>"
      ]
    },
    {
      "cell_type": "code",
      "metadata": {
        "id": "i6RTCDKv1uUN"
      },
      "source": [
        "import string\n",
        "import random\n",
        "import re\n",
        "\n",
        "from random import randint\n",
        "import cv2\n",
        "import numpy as np\n",
        "import os\n",
        "from PIL import Image, ImageFont, ImageDraw\n",
        "from matplotlib import pyplot as plt\n",
        "import matplotlib.image as mpimg\n"
      ],
      "execution_count": 18,
      "outputs": []
    },
    {
      "cell_type": "code",
      "metadata": {
        "id": "ENidRuKm14S_",
        "colab": {
          "base_uri": "https://localhost:8080/"
        },
        "outputId": "8d38b6d2-c7d3-44b6-e10e-b203dbcd350e"
      },
      "source": [
        "# Run this command only once:\n",
        "\n",
        "# makes the output folder /content/pictures/\n",
        "!mkdir pictures"
      ],
      "execution_count": 19,
      "outputs": [
        {
          "output_type": "stream",
          "name": "stdout",
          "text": [
            "mkdir: cannot create directory ‘pictures’: File exists\n"
          ]
        }
      ]
    },
    {
      "cell_type": "code",
      "metadata": {
        "id": "TvR3Yd_0HCOA",
        "colab": {
          "base_uri": "https://localhost:8080/"
        },
        "outputId": "78ab7f93-8e41-40c4-fd09-f93224f79150"
      },
      "source": [
        "# Run this command only once\n",
        "\n",
        "# Downloads the license plate template to /content/blank_plate.png\n",
        "!gdown --id 1Q_FsX2z6DaDCLM91qGZzwvctaW9bN60v"
      ],
      "execution_count": 20,
      "outputs": [
        {
          "output_type": "stream",
          "name": "stdout",
          "text": [
            "/usr/local/lib/python3.7/dist-packages/gdown/cli.py:131: FutureWarning: Option `--id` was deprecated in version 4.3.1 and will be removed in 5.0. You don't need to pass it anymore to use a file ID.\n",
            "  category=FutureWarning,\n",
            "Downloading...\n",
            "From: https://drive.google.com/uc?id=1Q_FsX2z6DaDCLM91qGZzwvctaW9bN60v\n",
            "To: /content/blank_plate.png\n",
            "100% 144k/144k [00:00<00:00, 92.2MB/s]\n"
          ]
        }
      ]
    },
    {
      "cell_type": "markdown",
      "source": [
        "# Data Engine\n"
      ],
      "metadata": {
        "id": "j1ueCRanzNtY"
      }
    },
    {
      "cell_type": "markdown",
      "source": [
        "## Data Generation\n"
      ],
      "metadata": {
        "id": "vKPx_dPSrwKX"
      }
    },
    {
      "cell_type": "code",
      "metadata": {
        "id": "4kh3ZKFb1U1F",
        "colab": {
          "base_uri": "https://localhost:8080/"
        },
        "outputId": "cff03753-f952-42dd-ba4b-0821003f4dc7"
      },
      "source": [
        "path = \"/content/\"\n",
        "\n",
        "NUMBER_OF_PLATES = 30\n",
        "database = []\n",
        "\n",
        "for i in range(0, NUMBER_OF_PLATES):\n",
        "\n",
        "    # Pick two random letters\n",
        "    plate_alpha = \"\" # Initializes empty string\n",
        "    for _ in range(0, 2):\n",
        "        plate_alpha += (random.choice(string.ascii_uppercase))\n",
        "\n",
        "    # Pick two random numbers\n",
        "    num = randint(0, 99)\n",
        "    plate_num = \"{:02d}\".format(num) # What does this line mean?\n",
        "\n",
        "    # Write plate to image\n",
        "    blank_plate = cv2.imread(path+'blank_plate.png')\n",
        "\n",
        "    # Convert into a PIL image (this is so we can use the monospaced fonts)\n",
        "    blank_plate_pil = Image.fromarray(blank_plate)\n",
        "\n",
        "    # Get a drawing context\n",
        "    draw = ImageDraw.Draw(blank_plate_pil)\n",
        "    monospace = ImageFont.truetype(font=\"/usr/share/fonts/truetype/liberation/LiberationMono-Regular.ttf\", \n",
        "                                   size=165)\n",
        "    draw.text(xy=(48, 75),\n",
        "              text=plate_alpha + \" \" + plate_num, \n",
        "              fill=(255,0,0), font=monospace)\n",
        "\n",
        "    # Convert back to OpenCV image and save\n",
        "    blank_plate = np.array(blank_plate_pil)\n",
        "\n",
        "    # Write license plate to file\n",
        "    cv2.imwrite(os.path.join(path + \"pictures/\", \n",
        "                             \"plate_{}{}.png\".format(plate_alpha, plate_num)),\n",
        "                             blank_plate) \n",
        "    \n",
        "    # Save data used\n",
        "    database = database + list(plate_alpha) + list(map(str, str(num)))\n",
        "\n",
        "# print(database)"
      ],
      "execution_count": 21,
      "outputs": [
        {
          "output_type": "stream",
          "name": "stdout",
          "text": [
            "['Q', 'Z', '7', '6', 'H', 'X', '8', '7', 'N', 'E', '1', '7', 'L', 'O', '6', '6', 'P', 'R', '1', '2', 'X', 'P', '1', '0', 'F', 'W', '1', '1', 'Y', 'A', '1', 'B', 'X', '4', '3', 'Z', 'N', '7', '4', 'Z', 'B', '1', '1', 'W', 'L', '6', '3', 'Y', 'E', '3', 'Q', 'M', '7', 'A', 'O', '5', '5', 'A', 'M', '6', '3', 'U', 'A', '6', '0', 'J', 'I', '5', '5', 'F', 'C', '6', '3', 'K', 'S', '4', '4', 'C', 'Q', '1', 'C', 'E', '1', '0', 'W', 'Y', '9', '8', 'I', 'M', '8', '0', 'O', 'L', '1', '5', 'O', 'M', '7', '9', 'L', 'O', '2', '0', 'S', 'D', '6', '2', 'T', 'P', '6', '1', 'C', 'A', '3', '5']\n"
          ]
        }
      ]
    },
    {
      "cell_type": "markdown",
      "source": [
        "## One-hot Vector Encoding"
      ],
      "metadata": {
        "id": "agGKbF9er562"
      }
    },
    {
      "cell_type": "code",
      "source": [
        "# Function that converts row number \n",
        "# (i.e. the changed label from the Y dataset)\n",
        "# into a one_hot vector array\n",
        "def convert_to_one_hot(Y, C):\n",
        "    Y = np.eye(C)[Y.reshape(-1)].T # C is the amount of labels we have (36)\n",
        "    return Y # Y must be in number format corresponding to matrix rows\n",
        "\n",
        "def one_hot_label(character):\n",
        "  # List to allow maping from character to row numbers\n",
        "  one_hot_map = \"ABCDEFGHIJKLMNOPQRSTUVWXYZ1234567890\"\n",
        "  return one_hot_map.find(character)\n",
        "\n",
        "def one_hot_rev(index):\n",
        "  # List to allow maping from character to row numbers\n",
        "  one_hot_map = \"ABCDEFGHIJKLMNOPQRSTUVWXYZ1234567890\"\n",
        "  return one_hot_map[index]"
      ],
      "metadata": {
        "id": "MpF2sCx4vlTb"
      },
      "execution_count": 38,
      "outputs": []
    },
    {
      "cell_type": "code",
      "source": [],
      "metadata": {
        "colab": {
          "base_uri": "https://localhost:8080/"
        },
        "id": "0R1ACu-USwku",
        "outputId": "2d9d874e-08f2-427f-cf51-fc52ab14482c"
      },
      "execution_count": 39,
      "outputs": [
        {
          "output_type": "stream",
          "name": "stdout",
          "text": [
            "A\n"
          ]
        }
      ]
    },
    {
      "cell_type": "markdown",
      "source": [
        "## Load image database"
      ],
      "metadata": {
        "id": "SGfbahQp9w3m"
      }
    },
    {
      "cell_type": "code",
      "source": [
        "# Access each image in the database\n",
        "PATH = \"/content/pictures\""
      ],
      "metadata": {
        "id": "FnfYT_1691Vk"
      },
      "execution_count": 23,
      "outputs": []
    },
    {
      "cell_type": "code",
      "source": [
        "def files_in_folder(folder_path):\n",
        "  '''\n",
        "  Returns a list of strings where each entry is a file in the folder_path.\n",
        "  \n",
        "  Parameters\n",
        "  ----------\n",
        "  \n",
        "  folder_path : str\n",
        "     A string to folder for which the file listing is returned.\n",
        "     \n",
        "  '''\n",
        "  files_A = !ls \"{folder_path}\"\n",
        "  # The files when listed from Google Drive have a particular format. They are\n",
        "  # grouped in sets of 4 and have spaces and tabs as delimiters.\n",
        "  \n",
        "  # Split the string listing sets of 4 files by tab and space and remove any \n",
        "  # empty splits.\n",
        "  files_B = [list(filter(None, re.split('\\t|\\s', files))) for files in files_A]\n",
        "  \n",
        "  # Concatenate all splits into a single sorted list\n",
        "  files_C = []\n",
        "  for element in files_B:\n",
        "    files_C = files_C + element\n",
        "  files_C.sort()\n",
        "  \n",
        "  return files_C\n",
        "\n",
        "raw_images = files_in_folder(PATH)"
      ],
      "metadata": {
        "id": "8rI0-78s-JYV"
      },
      "execution_count": 24,
      "outputs": []
    },
    {
      "cell_type": "code",
      "source": [
        "# # Example code for how to access images as arrays and as images\n",
        "# im = Image.open(PATH+'/plate_NV69.png')  # or PATH + element, for element in raw_images\n",
        "\n",
        "# # print(img) # array\n",
        "# imgplot = plt.imshow(im) # image\n",
        "# print(raw_images) # array of image names \n"
      ],
      "metadata": {
        "id": "8NxYMsQ6_wBR"
      },
      "execution_count": 25,
      "outputs": []
    },
    {
      "cell_type": "markdown",
      "source": [
        "## Image Processing\n"
      ],
      "metadata": {
        "id": "jeLfE71Fxiac"
      }
    },
    {
      "cell_type": "code",
      "source": [
        "# For each image in the data set, split it up into 4 images all centering on one image\n",
        "# For valid inputs into the CNN, the image sizes must all be the same\n",
        "\n",
        "# Then split it up, then label (would we be able to do this using the image name?)\n",
        "# Can do this as two nested for loops, first iterates over all photos\n",
        "# The second splits each photo into four images and assigns a label based on the file name\n",
        "# Based on the one_hot list, create a tuple with the image and the label through\n",
        "# How the label maps to the vector\n",
        "NUMBER_OF_LABELS = 36\n",
        "# Take raw images\n",
        "\n",
        "# (x,y) = 48, 75\n",
        "# can assume its 5 elements, ignore middle\n",
        "# split into 5, then take first two and last two\n",
        "  # image 1 is 48-148\n",
        "  # image 2 is 149 - 249\n",
        "  # image 3  351-451\n",
        "  # image 4 is 452 to 552\n",
        "  # all images are 75 to 223 in y\n",
        "  # therefore overall dimensions are 100 by 148\n",
        "\n",
        "all_dataset = [] # array or list of tupples\n",
        "\n",
        "for element in raw_images:\n",
        "  # print(element)\n",
        "  im = Image.open(PATH+'/'+element)\n",
        "\n",
        "  # section off first image \n",
        "  label_1 = one_hot_label(element[6])\n",
        "  image_1 = im.crop((48, 75, 148, 223))\n",
        "  # imgplot = plt.imshow(image_1) # image\n",
        "  temp_tuple = [np.array(image_1), label_1]\n",
        "  all_dataset.append(tuple(temp_tuple))\n",
        "\n",
        "  label_2 = one_hot_label(element[7])\n",
        "  image_2 = im.crop((149, 75, 249, 223))\n",
        "  # imgplot = plt.imshow(image_2) # image\n",
        "  temp_tuple = [np.array(image_2), label_2]\n",
        "  all_dataset.append(tuple(temp_tuple))\n",
        "\n",
        "  label_3 = one_hot_label(element[8])\n",
        "  image_3 = im.crop((351, 75, 451, 223))\n",
        "  # imgplot = plt.imshow(image_3) # image\n",
        "  temp_tuple = [np.array(image_3), label_3]\n",
        "  all_dataset.append(tuple(temp_tuple))\n",
        "\n",
        "  label_4 = one_hot_label(element[9])\n",
        "  image_4 = im.crop((452, 75, 552, 223))\n",
        "  # imgplot = plt.imshow(image_4) # image\n",
        "  temp_tuple = [np.array(image_4), label_4]\n",
        "  all_dataset.append(tuple(temp_tuple))\n",
        "\n",
        "# print(all_dataset)\n"
      ],
      "metadata": {
        "colab": {
          "base_uri": "https://localhost:8080/"
        },
        "id": "P1M_YJc6xpHE",
        "outputId": "f2e93cb7-047e-4945-aa2c-fe7bf8e7abf0"
      },
      "execution_count": 26,
      "outputs": [
        {
          "output_type": "stream",
          "name": "stdout",
          "text": [
            "plate_AH48.png\n",
            "plate_AK93.png\n",
            "plate_AM63.png\n",
            "plate_AO55.png\n",
            "plate_AO63.png\n",
            "plate_BP93.png\n",
            "plate_BX43.png\n",
            "plate_BX69.png\n",
            "plate_CA14.png\n",
            "plate_CA35.png\n",
            "plate_CD54.png\n",
            "plate_CE10.png\n",
            "plate_CO03.png\n",
            "plate_CQ01.png\n",
            "plate_CZ19.png\n",
            "plate_DY47.png\n",
            "plate_EB99.png\n",
            "plate_EM77.png\n",
            "plate_FC63.png\n",
            "plate_FW11.png\n",
            "plate_GK08.png\n",
            "plate_GN73.png\n",
            "plate_HI67.png\n",
            "plate_HX87.png\n",
            "plate_IM80.png\n",
            "plate_JA86.png\n",
            "plate_JI55.png\n",
            "plate_JR34.png\n",
            "plate_KC95.png\n",
            "plate_KJ75.png\n",
            "plate_KS44.png\n",
            "plate_KW20.png\n",
            "plate_LG52.png\n",
            "plate_LJ74.png\n",
            "plate_LN39.png\n",
            "plate_LO20.png\n",
            "plate_LO66.png\n",
            "plate_LQ57.png\n",
            "plate_LR35.png\n",
            "plate_MF36.png\n",
            "plate_MH45.png\n",
            "plate_ML55.png\n",
            "plate_NE17.png\n",
            "plate_NR82.png\n",
            "plate_NY16.png\n",
            "plate_OH84.png\n",
            "plate_OL15.png\n",
            "plate_OM79.png\n",
            "plate_PR12.png\n",
            "plate_PV70.png\n",
            "plate_QB22.png\n",
            "plate_QG22.png\n",
            "plate_QM07.png\n",
            "plate_QO56.png\n",
            "plate_QZ76.png\n",
            "plate_RI94.png\n",
            "plate_RY80.png\n",
            "plate_SD62.png\n",
            "plate_SI65.png\n",
            "plate_SN74.png\n",
            "plate_SS58.png\n",
            "plate_SW27.png\n",
            "plate_TP61.png\n",
            "plate_TS77.png\n",
            "plate_TV10.png\n",
            "plate_TZ68.png\n",
            "plate_UA60.png\n",
            "plate_UE35.png\n",
            "plate_UV55.png\n",
            "plate_VB69.png\n",
            "plate_VN68.png\n",
            "plate_VW46.png\n",
            "plate_VX70.png\n",
            "plate_WG92.png\n",
            "plate_WL63.png\n",
            "plate_WQ59.png\n",
            "plate_WY98.png\n",
            "plate_XP10.png\n",
            "plate_XS59.png\n",
            "plate_YA01.png\n",
            "plate_YD86.png\n",
            "plate_YE03.png\n",
            "plate_YG67.png\n",
            "plate_YS21.png\n",
            "plate_ZB11.png\n",
            "plate_ZC41.png\n",
            "plate_ZL05.png\n",
            "plate_ZN74.png\n",
            "plate_ZS44.png\n",
            "plate_ZW63.png\n"
          ]
        }
      ]
    },
    {
      "cell_type": "code",
      "source": [
        "# Shuffle the dataset\n",
        "# np.random.shuffle(all_dataset)"
      ],
      "metadata": {
        "id": "ALhhMDImLqO2"
      },
      "execution_count": 27,
      "outputs": []
    },
    {
      "cell_type": "code",
      "source": [
        "# Genereate X and Y datasets\n",
        "X_dataset_orig = np.array([data[0] for data in all_dataset[:]])\n",
        "Y_dataset_orig = np.array([[data[1]] for data in all_dataset])\n",
        "# X is examples, Y is labels for the examples"
      ],
      "metadata": {
        "id": "OSlZxzTBL2BP"
      },
      "execution_count": 28,
      "outputs": []
    },
    {
      "cell_type": "code",
      "source": [
        "# Normalize X (images) dataset\n",
        "X_dataset = X_dataset_orig/255.\n",
        "\n",
        "# Convert Y dataset to one-hot encoding\n",
        "Y_dataset = convert_to_one_hot(Y_dataset_orig, NUMBER_OF_LABELS).T\n",
        "print(Y_dataset)\n",
        "print(X_dataset)"
      ],
      "metadata": {
        "colab": {
          "base_uri": "https://localhost:8080/"
        },
        "id": "azdCj8oKLx2w",
        "outputId": "e9a8764a-1f9e-4bc2-e8bd-596d43e598dd"
      },
      "execution_count": 29,
      "outputs": [
        {
          "output_type": "stream",
          "name": "stdout",
          "text": [
            "[[1. 0. 0. ... 0. 0. 0.]\n",
            " [0. 0. 0. ... 0. 0. 0.]\n",
            " [0. 0. 0. ... 0. 0. 0.]\n",
            " ...\n",
            " [0. 0. 0. ... 0. 0. 0.]\n",
            " [0. 0. 0. ... 0. 0. 0.]\n",
            " [0. 0. 0. ... 0. 0. 0.]]\n",
            "[[[[0.85098039 0.85490196 0.87058824]\n",
            "   [0.84705882 0.85098039 0.86666667]\n",
            "   [0.85490196 0.85882353 0.8745098 ]\n",
            "   ...\n",
            "   [0.89411765 0.89411765 0.90196078]\n",
            "   [0.90196078 0.90196078 0.91372549]\n",
            "   [0.8745098  0.87058824 0.88235294]]\n",
            "\n",
            "  [[0.84705882 0.85098039 0.86666667]\n",
            "   [0.85098039 0.85490196 0.87058824]\n",
            "   [0.85882353 0.85882353 0.8745098 ]\n",
            "   ...\n",
            "   [0.87058824 0.8745098  0.89019608]\n",
            "   [0.87058824 0.8745098  0.89019608]\n",
            "   [0.85882353 0.8627451  0.87843137]]\n",
            "\n",
            "  [[0.85098039 0.85490196 0.87058824]\n",
            "   [0.84705882 0.85098039 0.86666667]\n",
            "   [0.85882353 0.8627451  0.87843137]\n",
            "   ...\n",
            "   [0.8745098  0.87843137 0.89411765]\n",
            "   [0.87058824 0.8745098  0.89019608]\n",
            "   [0.85882353 0.8627451  0.87843137]]\n",
            "\n",
            "  ...\n",
            "\n",
            "  [[0.83921569 0.84313725 0.85882353]\n",
            "   [0.83921569 0.84313725 0.85882353]\n",
            "   [0.84313725 0.84705882 0.8627451 ]\n",
            "   ...\n",
            "   [0.85882353 0.8627451  0.87843137]\n",
            "   [0.85882353 0.8627451  0.87843137]\n",
            "   [0.85882353 0.8627451  0.87843137]]\n",
            "\n",
            "  [[0.84313725 0.84705882 0.8627451 ]\n",
            "   [0.83529412 0.83921569 0.85490196]\n",
            "   [0.84313725 0.84705882 0.8627451 ]\n",
            "   ...\n",
            "   [0.85490196 0.85882353 0.8745098 ]\n",
            "   [0.85098039 0.85490196 0.87058824]\n",
            "   [0.85490196 0.85882353 0.8745098 ]]\n",
            "\n",
            "  [[0.84313725 0.84705882 0.8627451 ]\n",
            "   [0.84313725 0.84705882 0.8627451 ]\n",
            "   [0.83921569 0.84313725 0.85882353]\n",
            "   ...\n",
            "   [0.8627451  0.86666667 0.88235294]\n",
            "   [0.85490196 0.85882353 0.8745098 ]\n",
            "   [0.84313725 0.84705882 0.8627451 ]]]\n",
            "\n",
            "\n",
            " [[[0.86666667 0.87058824 0.88235294]\n",
            "   [0.8627451  0.86666667 0.87843137]\n",
            "   [0.85882353 0.8627451  0.87843137]\n",
            "   ...\n",
            "   [0.88627451 0.88235294 0.89411765]\n",
            "   [0.89019608 0.88627451 0.89411765]\n",
            "   [0.88235294 0.88235294 0.89411765]]\n",
            "\n",
            "  [[0.8627451  0.86666667 0.88235294]\n",
            "   [0.86666667 0.87058824 0.88627451]\n",
            "   [0.86666667 0.87058824 0.88627451]\n",
            "   ...\n",
            "   [0.85882353 0.8627451  0.87843137]\n",
            "   [0.85882353 0.8627451  0.87843137]\n",
            "   [0.85882353 0.8627451  0.87843137]]\n",
            "\n",
            "  [[0.8627451  0.86666667 0.88235294]\n",
            "   [0.86666667 0.87058824 0.88627451]\n",
            "   [0.86666667 0.87058824 0.88627451]\n",
            "   ...\n",
            "   [0.85882353 0.8627451  0.87843137]\n",
            "   [0.85490196 0.85882353 0.8745098 ]\n",
            "   [0.85882353 0.8627451  0.87843137]]\n",
            "\n",
            "  ...\n",
            "\n",
            "  [[0.85098039 0.85490196 0.87058824]\n",
            "   [0.85098039 0.85490196 0.87058824]\n",
            "   [0.85098039 0.85490196 0.87058824]\n",
            "   ...\n",
            "   [0.84313725 0.84705882 0.8627451 ]\n",
            "   [0.84313725 0.84705882 0.8627451 ]\n",
            "   [0.84705882 0.85098039 0.86666667]]\n",
            "\n",
            "  [[0.85098039 0.85490196 0.87058824]\n",
            "   [0.84705882 0.85098039 0.86666667]\n",
            "   [0.84705882 0.85098039 0.86666667]\n",
            "   ...\n",
            "   [0.84313725 0.84705882 0.8627451 ]\n",
            "   [0.83921569 0.84313725 0.85882353]\n",
            "   [0.84705882 0.85098039 0.86666667]]\n",
            "\n",
            "  [[0.85490196 0.85882353 0.8745098 ]\n",
            "   [0.85882353 0.8627451  0.87843137]\n",
            "   [0.85490196 0.85882353 0.8745098 ]\n",
            "   ...\n",
            "   [0.84705882 0.85098039 0.86666667]\n",
            "   [0.85098039 0.85490196 0.87058824]\n",
            "   [0.84705882 0.85098039 0.86666667]]]\n",
            "\n",
            "\n",
            " [[[0.88235294 0.88235294 0.89803922]\n",
            "   [0.8745098  0.8745098  0.89019608]\n",
            "   [0.85882353 0.85882353 0.87058824]\n",
            "   ...\n",
            "   [0.90980392 0.91372549 0.9254902 ]\n",
            "   [0.89803922 0.90588235 0.93333333]\n",
            "   [0.87058824 0.87843137 0.90980392]]\n",
            "\n",
            "  [[0.8745098  0.87843137 0.89411765]\n",
            "   [0.87058824 0.8745098  0.89019608]\n",
            "   [0.85882353 0.8627451  0.87843137]\n",
            "   ...\n",
            "   [0.8627451  0.8745098  0.89019608]\n",
            "   [0.86666667 0.88235294 0.89803922]\n",
            "   [0.87058824 0.88235294 0.90196078]]\n",
            "\n",
            "  [[0.86666667 0.87058824 0.88627451]\n",
            "   [0.86666667 0.87058824 0.88627451]\n",
            "   [0.8627451  0.86666667 0.88235294]\n",
            "   ...\n",
            "   [0.85490196 0.86666667 0.87843137]\n",
            "   [0.85098039 0.86666667 0.8745098 ]\n",
            "   [0.8627451  0.87843137 0.88627451]]\n",
            "\n",
            "  ...\n",
            "\n",
            "  [[0.84705882 0.85098039 0.86666667]\n",
            "   [0.84705882 0.85098039 0.86666667]\n",
            "   [0.84705882 0.85098039 0.86666667]\n",
            "   ...\n",
            "   [0.85098039 0.85490196 0.87058824]\n",
            "   [0.85098039 0.85490196 0.87058824]\n",
            "   [0.83921569 0.84313725 0.85882353]]\n",
            "\n",
            "  [[0.85098039 0.85490196 0.87058824]\n",
            "   [0.84705882 0.85098039 0.86666667]\n",
            "   [0.84705882 0.85098039 0.86666667]\n",
            "   ...\n",
            "   [0.84313725 0.84705882 0.8627451 ]\n",
            "   [0.84705882 0.85098039 0.86666667]\n",
            "   [0.84705882 0.85098039 0.86666667]]\n",
            "\n",
            "  [[0.85882353 0.8627451  0.87843137]\n",
            "   [0.85098039 0.85490196 0.87058824]\n",
            "   [0.84313725 0.84705882 0.8627451 ]\n",
            "   ...\n",
            "   [0.84313725 0.84705882 0.8627451 ]\n",
            "   [0.85490196 0.85882353 0.8745098 ]\n",
            "   [0.85490196 0.85882353 0.8745098 ]]]\n",
            "\n",
            "\n",
            " ...\n",
            "\n",
            "\n",
            " [[[0.86666667 0.87058824 0.88235294]\n",
            "   [0.8627451  0.86666667 0.87843137]\n",
            "   [0.85882353 0.8627451  0.87843137]\n",
            "   ...\n",
            "   [0.88627451 0.88235294 0.89411765]\n",
            "   [0.89019608 0.88627451 0.89411765]\n",
            "   [0.88235294 0.88235294 0.89411765]]\n",
            "\n",
            "  [[0.8627451  0.86666667 0.88235294]\n",
            "   [0.86666667 0.87058824 0.88627451]\n",
            "   [0.86666667 0.87058824 0.88627451]\n",
            "   ...\n",
            "   [0.85882353 0.8627451  0.87843137]\n",
            "   [0.85882353 0.8627451  0.87843137]\n",
            "   [0.85882353 0.8627451  0.87843137]]\n",
            "\n",
            "  [[0.8627451  0.86666667 0.88235294]\n",
            "   [0.86666667 0.87058824 0.88627451]\n",
            "   [0.86666667 0.87058824 0.88627451]\n",
            "   ...\n",
            "   [0.85882353 0.8627451  0.87843137]\n",
            "   [0.85490196 0.85882353 0.8745098 ]\n",
            "   [0.85882353 0.8627451  0.87843137]]\n",
            "\n",
            "  ...\n",
            "\n",
            "  [[0.85098039 0.85490196 0.87058824]\n",
            "   [0.85098039 0.85490196 0.87058824]\n",
            "   [0.85098039 0.85490196 0.87058824]\n",
            "   ...\n",
            "   [0.84313725 0.84705882 0.8627451 ]\n",
            "   [0.84313725 0.84705882 0.8627451 ]\n",
            "   [0.84705882 0.85098039 0.86666667]]\n",
            "\n",
            "  [[0.85098039 0.85490196 0.87058824]\n",
            "   [0.84705882 0.85098039 0.86666667]\n",
            "   [0.84705882 0.85098039 0.86666667]\n",
            "   ...\n",
            "   [0.84313725 0.84705882 0.8627451 ]\n",
            "   [0.83921569 0.84313725 0.85882353]\n",
            "   [0.84705882 0.85098039 0.86666667]]\n",
            "\n",
            "  [[0.85490196 0.85882353 0.8745098 ]\n",
            "   [0.85882353 0.8627451  0.87843137]\n",
            "   [0.85490196 0.85882353 0.8745098 ]\n",
            "   ...\n",
            "   [0.84705882 0.85098039 0.86666667]\n",
            "   [0.85098039 0.85490196 0.87058824]\n",
            "   [0.84705882 0.85098039 0.86666667]]]\n",
            "\n",
            "\n",
            " [[[0.88235294 0.88235294 0.89803922]\n",
            "   [0.8745098  0.8745098  0.89019608]\n",
            "   [0.85882353 0.85882353 0.87058824]\n",
            "   ...\n",
            "   [0.90980392 0.91372549 0.9254902 ]\n",
            "   [0.89803922 0.90588235 0.93333333]\n",
            "   [0.87058824 0.87843137 0.90980392]]\n",
            "\n",
            "  [[0.8745098  0.87843137 0.89411765]\n",
            "   [0.87058824 0.8745098  0.89019608]\n",
            "   [0.85882353 0.8627451  0.87843137]\n",
            "   ...\n",
            "   [0.8627451  0.8745098  0.89019608]\n",
            "   [0.86666667 0.88235294 0.89803922]\n",
            "   [0.87058824 0.88235294 0.90196078]]\n",
            "\n",
            "  [[0.86666667 0.87058824 0.88627451]\n",
            "   [0.86666667 0.87058824 0.88627451]\n",
            "   [0.8627451  0.86666667 0.88235294]\n",
            "   ...\n",
            "   [0.85490196 0.86666667 0.87843137]\n",
            "   [0.85098039 0.86666667 0.8745098 ]\n",
            "   [0.8627451  0.87843137 0.88627451]]\n",
            "\n",
            "  ...\n",
            "\n",
            "  [[0.84705882 0.85098039 0.86666667]\n",
            "   [0.84705882 0.85098039 0.86666667]\n",
            "   [0.84705882 0.85098039 0.86666667]\n",
            "   ...\n",
            "   [0.85098039 0.85490196 0.87058824]\n",
            "   [0.85098039 0.85490196 0.87058824]\n",
            "   [0.83921569 0.84313725 0.85882353]]\n",
            "\n",
            "  [[0.85098039 0.85490196 0.87058824]\n",
            "   [0.84705882 0.85098039 0.86666667]\n",
            "   [0.84705882 0.85098039 0.86666667]\n",
            "   ...\n",
            "   [0.84313725 0.84705882 0.8627451 ]\n",
            "   [0.84705882 0.85098039 0.86666667]\n",
            "   [0.84705882 0.85098039 0.86666667]]\n",
            "\n",
            "  [[0.85882353 0.8627451  0.87843137]\n",
            "   [0.85098039 0.85490196 0.87058824]\n",
            "   [0.84313725 0.84705882 0.8627451 ]\n",
            "   ...\n",
            "   [0.84313725 0.84705882 0.8627451 ]\n",
            "   [0.85490196 0.85882353 0.8745098 ]\n",
            "   [0.85490196 0.85882353 0.8745098 ]]]\n",
            "\n",
            "\n",
            " [[[0.88235294 0.89019608 0.91372549]\n",
            "   [0.89803922 0.90196078 0.91764706]\n",
            "   [0.89019608 0.89019608 0.90980392]\n",
            "   ...\n",
            "   [0.85490196 0.85882353 0.8745098 ]\n",
            "   [0.85490196 0.85882353 0.8745098 ]\n",
            "   [0.8627451  0.86666667 0.88235294]]\n",
            "\n",
            "  [[0.8627451  0.8745098  0.89411765]\n",
            "   [0.85490196 0.87058824 0.88627451]\n",
            "   [0.85490196 0.86666667 0.88627451]\n",
            "   ...\n",
            "   [0.85882353 0.8627451  0.87843137]\n",
            "   [0.85882353 0.8627451  0.87843137]\n",
            "   [0.85882353 0.8627451  0.87843137]]\n",
            "\n",
            "  [[0.86666667 0.88235294 0.88627451]\n",
            "   [0.85098039 0.86666667 0.87058824]\n",
            "   [0.85098039 0.86666667 0.8745098 ]\n",
            "   ...\n",
            "   [0.85882353 0.8627451  0.87843137]\n",
            "   [0.85882353 0.8627451  0.87843137]\n",
            "   [0.85490196 0.85882353 0.8745098 ]]\n",
            "\n",
            "  ...\n",
            "\n",
            "  [[0.84705882 0.85098039 0.86666667]\n",
            "   [0.85098039 0.85490196 0.87058824]\n",
            "   [0.84705882 0.85098039 0.86666667]\n",
            "   ...\n",
            "   [0.84313725 0.84705882 0.8627451 ]\n",
            "   [0.84313725 0.84705882 0.8627451 ]\n",
            "   [0.84705882 0.85098039 0.86666667]]\n",
            "\n",
            "  [[0.83921569 0.84313725 0.85882353]\n",
            "   [0.84313725 0.84705882 0.8627451 ]\n",
            "   [0.85098039 0.85490196 0.87058824]\n",
            "   ...\n",
            "   [0.84313725 0.84705882 0.8627451 ]\n",
            "   [0.84313725 0.84705882 0.8627451 ]\n",
            "   [0.85098039 0.85490196 0.87058824]]\n",
            "\n",
            "  [[0.84705882 0.85098039 0.86666667]\n",
            "   [0.84705882 0.85098039 0.86666667]\n",
            "   [0.85098039 0.85490196 0.87058824]\n",
            "   ...\n",
            "   [0.84705882 0.85098039 0.86666667]\n",
            "   [0.84705882 0.85098039 0.86666667]\n",
            "   [0.84705882 0.85098039 0.86666667]]]]\n"
          ]
        }
      ]
    },
    {
      "cell_type": "markdown",
      "source": [
        "# Neural Network Classifier Design"
      ],
      "metadata": {
        "id": "Zz7sYUlxzF2r"
      }
    },
    {
      "cell_type": "markdown",
      "source": [
        "## Design Convolutional Neural Net"
      ],
      "metadata": {
        "id": "e7g5URomym7U"
      }
    },
    {
      "cell_type": "markdown",
      "source": [
        "## Train CNN"
      ],
      "metadata": {
        "id": "0vAU2tYI2lw-"
      }
    },
    {
      "cell_type": "code",
      "source": [
        "from tensorflow.keras import layers\n",
        "from tensorflow.keras import models\n",
        "from tensorflow.keras import optimizers\n",
        "\n",
        "from tensorflow.keras.utils import plot_model\n",
        "from tensorflow.keras import backend"
      ],
      "metadata": {
        "id": "x1oyxId4N_z1"
      },
      "execution_count": 30,
      "outputs": []
    },
    {
      "cell_type": "markdown",
      "source": [
        "## Model Definition"
      ],
      "metadata": {
        "id": "UW2yC707ODaB"
      }
    },
    {
      "cell_type": "code",
      "source": [
        "conv_model = models.Sequential()\n",
        "conv_model.add(layers.Conv2D(32, (3, 3), activation='relu',\n",
        "                             input_shape=(148, 100, 3)))\n",
        "conv_model.add(layers.MaxPooling2D((2, 2)))\n",
        "conv_model.add(layers.Conv2D(64, (3, 3), activation='relu'))\n",
        "conv_model.add(layers.MaxPooling2D((2, 2)))\n",
        "conv_model.add(layers.Conv2D(128, (3, 3), activation='relu'))\n",
        "conv_model.add(layers.MaxPooling2D((2, 2)))\n",
        "conv_model.add(layers.Conv2D(128, (3, 3), activation='relu'))\n",
        "conv_model.add(layers.MaxPooling2D((2, 2)))\n",
        "conv_model.add(layers.Flatten())\n",
        "conv_model.add(layers.Dropout(0.5))\n",
        "conv_model.add(layers.Dense(512, activation='relu'))\n",
        "conv_model.add(layers.Dense(36, activation='softmax')) # Amount of labels, ie. things we are trying to classify"
      ],
      "metadata": {
        "id": "RoPsJSifOCnO"
      },
      "execution_count": 31,
      "outputs": []
    },
    {
      "cell_type": "code",
      "source": [
        "conv_model.summary()"
      ],
      "metadata": {
        "colab": {
          "base_uri": "https://localhost:8080/"
        },
        "id": "Ak7eb7c_OSUt",
        "outputId": "f577692f-4d7e-466d-c795-3cf2c5251e63"
      },
      "execution_count": 32,
      "outputs": [
        {
          "output_type": "stream",
          "name": "stdout",
          "text": [
            "Model: \"sequential\"\n",
            "_________________________________________________________________\n",
            " Layer (type)                Output Shape              Param #   \n",
            "=================================================================\n",
            " conv2d (Conv2D)             (None, 146, 98, 32)       896       \n",
            "                                                                 \n",
            " max_pooling2d (MaxPooling2D  (None, 73, 49, 32)       0         \n",
            " )                                                               \n",
            "                                                                 \n",
            " conv2d_1 (Conv2D)           (None, 71, 47, 64)        18496     \n",
            "                                                                 \n",
            " max_pooling2d_1 (MaxPooling  (None, 35, 23, 64)       0         \n",
            " 2D)                                                             \n",
            "                                                                 \n",
            " conv2d_2 (Conv2D)           (None, 33, 21, 128)       73856     \n",
            "                                                                 \n",
            " max_pooling2d_2 (MaxPooling  (None, 16, 10, 128)      0         \n",
            " 2D)                                                             \n",
            "                                                                 \n",
            " conv2d_3 (Conv2D)           (None, 14, 8, 128)        147584    \n",
            "                                                                 \n",
            " max_pooling2d_3 (MaxPooling  (None, 7, 4, 128)        0         \n",
            " 2D)                                                             \n",
            "                                                                 \n",
            " flatten (Flatten)           (None, 3584)              0         \n",
            "                                                                 \n",
            " dropout (Dropout)           (None, 3584)              0         \n",
            "                                                                 \n",
            " dense (Dense)               (None, 512)               1835520   \n",
            "                                                                 \n",
            " dense_1 (Dense)             (None, 36)                18468     \n",
            "                                                                 \n",
            "=================================================================\n",
            "Total params: 2,094,820\n",
            "Trainable params: 2,094,820\n",
            "Non-trainable params: 0\n",
            "_________________________________________________________________\n"
          ]
        }
      ]
    },
    {
      "cell_type": "code",
      "source": [
        "LEARNING_RATE = 1e-4 # How fast we are changing the gradient\n",
        "conv_model.compile(loss='categorical_crossentropy',\n",
        "                   optimizer=optimizers.RMSprop(lr=LEARNING_RATE),\n",
        "                   metrics=['acc'])\n",
        "# Metrics is like eval critera, in this case acc is accuracy, we want to track this"
      ],
      "metadata": {
        "colab": {
          "base_uri": "https://localhost:8080/"
        },
        "id": "_I1y_MijOUZE",
        "outputId": "b1f533fb-316b-4219-d3c0-fe4a43199c08"
      },
      "execution_count": 33,
      "outputs": [
        {
          "output_type": "stream",
          "name": "stderr",
          "text": [
            "/usr/local/lib/python3.7/dist-packages/keras/optimizer_v2/rmsprop.py:130: UserWarning: The `lr` argument is deprecated, use `learning_rate` instead.\n",
            "  super(RMSprop, self).__init__(name, **kwargs)\n"
          ]
        }
      ]
    },
    {
      "cell_type": "code",
      "source": [
        "VALIDATION_SPLIT = .2 # used to validate dataset\n",
        "\n",
        "history_conv = conv_model.fit(X_dataset, Y_dataset, \n",
        "                              validation_split=VALIDATION_SPLIT, \n",
        "                              epochs=80, # Epoch is one full iteration of the dataset\n",
        "                              batch_size=16) \n",
        "                              # Every time you do a training set, how many examples from the data you take"
      ],
      "metadata": {
        "colab": {
          "base_uri": "https://localhost:8080/"
        },
        "id": "1uVWO1XUOcBS",
        "outputId": "2869def9-f651-48d8-a7dc-099e316727a4"
      },
      "execution_count": 34,
      "outputs": [
        {
          "output_type": "stream",
          "name": "stdout",
          "text": [
            "Epoch 1/80\n",
            "18/18 [==============================] - 13s 33ms/step - loss: 3.4963 - acc: 0.1181 - val_loss: 3.3938 - val_acc: 0.1250\n",
            "Epoch 2/80\n",
            "18/18 [==============================] - 0s 14ms/step - loss: 3.2442 - acc: 0.2014 - val_loss: 3.1065 - val_acc: 0.1389\n",
            "Epoch 3/80\n",
            "18/18 [==============================] - 0s 14ms/step - loss: 2.7451 - acc: 0.3507 - val_loss: 2.5031 - val_acc: 0.4722\n",
            "Epoch 4/80\n",
            "18/18 [==============================] - 0s 16ms/step - loss: 1.9798 - acc: 0.5451 - val_loss: 1.7488 - val_acc: 0.5972\n",
            "Epoch 5/80\n",
            "18/18 [==============================] - 0s 14ms/step - loss: 1.2038 - acc: 0.7188 - val_loss: 1.0074 - val_acc: 0.7500\n",
            "Epoch 6/80\n",
            "18/18 [==============================] - 0s 14ms/step - loss: 0.7396 - acc: 0.8021 - val_loss: 0.5070 - val_acc: 0.8611\n",
            "Epoch 7/80\n",
            "18/18 [==============================] - 0s 13ms/step - loss: 0.4910 - acc: 0.8681 - val_loss: 0.2198 - val_acc: 0.9722\n",
            "Epoch 8/80\n",
            "18/18 [==============================] - 0s 14ms/step - loss: 0.3494 - acc: 0.9167 - val_loss: 0.1219 - val_acc: 0.9722\n",
            "Epoch 9/80\n",
            "18/18 [==============================] - 0s 14ms/step - loss: 0.2672 - acc: 0.8993 - val_loss: 0.1459 - val_acc: 0.9722\n",
            "Epoch 10/80\n",
            "18/18 [==============================] - 0s 14ms/step - loss: 0.2368 - acc: 0.9236 - val_loss: 0.0595 - val_acc: 0.9861\n",
            "Epoch 11/80\n",
            "18/18 [==============================] - 0s 14ms/step - loss: 0.1943 - acc: 0.9549 - val_loss: 0.0250 - val_acc: 1.0000\n",
            "Epoch 12/80\n",
            "18/18 [==============================] - 0s 14ms/step - loss: 0.1712 - acc: 0.9549 - val_loss: 0.0650 - val_acc: 0.9861\n",
            "Epoch 13/80\n",
            "18/18 [==============================] - 0s 14ms/step - loss: 0.1845 - acc: 0.9375 - val_loss: 0.0760 - val_acc: 0.9861\n",
            "Epoch 14/80\n",
            "18/18 [==============================] - 0s 14ms/step - loss: 0.1392 - acc: 0.9583 - val_loss: 0.0177 - val_acc: 1.0000\n",
            "Epoch 15/80\n",
            "18/18 [==============================] - 0s 14ms/step - loss: 0.1129 - acc: 0.9653 - val_loss: 0.0723 - val_acc: 0.9861\n",
            "Epoch 16/80\n",
            "18/18 [==============================] - 0s 14ms/step - loss: 0.1576 - acc: 0.9618 - val_loss: 0.0125 - val_acc: 1.0000\n",
            "Epoch 17/80\n",
            "18/18 [==============================] - 0s 16ms/step - loss: 0.1548 - acc: 0.9514 - val_loss: 0.0379 - val_acc: 0.9861\n",
            "Epoch 18/80\n",
            "18/18 [==============================] - 0s 14ms/step - loss: 0.0986 - acc: 0.9653 - val_loss: 0.0145 - val_acc: 0.9861\n",
            "Epoch 19/80\n",
            "18/18 [==============================] - 0s 14ms/step - loss: 0.0927 - acc: 0.9722 - val_loss: 0.0235 - val_acc: 0.9861\n",
            "Epoch 20/80\n",
            "18/18 [==============================] - 0s 14ms/step - loss: 0.0906 - acc: 0.9826 - val_loss: 0.0195 - val_acc: 0.9861\n",
            "Epoch 21/80\n",
            "18/18 [==============================] - 0s 14ms/step - loss: 0.0886 - acc: 0.9688 - val_loss: 0.0775 - val_acc: 0.9861\n",
            "Epoch 22/80\n",
            "18/18 [==============================] - 0s 14ms/step - loss: 0.1180 - acc: 0.9757 - val_loss: 0.0061 - val_acc: 1.0000\n",
            "Epoch 23/80\n",
            "18/18 [==============================] - 0s 14ms/step - loss: 0.1409 - acc: 0.9618 - val_loss: 0.0255 - val_acc: 0.9861\n",
            "Epoch 24/80\n",
            "18/18 [==============================] - 0s 14ms/step - loss: 0.0980 - acc: 0.9653 - val_loss: 0.0318 - val_acc: 0.9861\n",
            "Epoch 25/80\n",
            "18/18 [==============================] - 0s 14ms/step - loss: 0.0882 - acc: 0.9757 - val_loss: 0.0121 - val_acc: 1.0000\n",
            "Epoch 26/80\n",
            "18/18 [==============================] - 0s 14ms/step - loss: 0.0867 - acc: 0.9653 - val_loss: 0.0134 - val_acc: 1.0000\n",
            "Epoch 27/80\n",
            "18/18 [==============================] - 0s 16ms/step - loss: 0.0974 - acc: 0.9618 - val_loss: 0.0150 - val_acc: 0.9861\n",
            "Epoch 28/80\n",
            "18/18 [==============================] - 0s 14ms/step - loss: 0.0677 - acc: 0.9792 - val_loss: 0.0459 - val_acc: 0.9861\n",
            "Epoch 29/80\n",
            "18/18 [==============================] - 0s 16ms/step - loss: 0.0785 - acc: 0.9792 - val_loss: 0.0914 - val_acc: 0.9861\n",
            "Epoch 30/80\n",
            "18/18 [==============================] - 0s 14ms/step - loss: 0.0679 - acc: 0.9792 - val_loss: 0.0305 - val_acc: 0.9861\n",
            "Epoch 31/80\n",
            "18/18 [==============================] - 0s 14ms/step - loss: 0.0627 - acc: 0.9826 - val_loss: 0.0108 - val_acc: 1.0000\n",
            "Epoch 32/80\n",
            "18/18 [==============================] - 0s 14ms/step - loss: 0.0592 - acc: 0.9792 - val_loss: 0.0799 - val_acc: 0.9861\n",
            "Epoch 33/80\n",
            "18/18 [==============================] - 0s 14ms/step - loss: 0.0655 - acc: 0.9792 - val_loss: 0.0086 - val_acc: 1.0000\n",
            "Epoch 34/80\n",
            "18/18 [==============================] - 0s 14ms/step - loss: 0.0500 - acc: 0.9826 - val_loss: 0.0015 - val_acc: 1.0000\n",
            "Epoch 35/80\n",
            "18/18 [==============================] - 0s 16ms/step - loss: 0.0503 - acc: 0.9826 - val_loss: 0.0765 - val_acc: 0.9861\n",
            "Epoch 36/80\n",
            "18/18 [==============================] - 0s 14ms/step - loss: 0.0718 - acc: 0.9757 - val_loss: 0.0736 - val_acc: 0.9861\n",
            "Epoch 37/80\n",
            "18/18 [==============================] - 0s 14ms/step - loss: 0.0777 - acc: 0.9618 - val_loss: 0.0415 - val_acc: 0.9861\n",
            "Epoch 38/80\n",
            "18/18 [==============================] - 0s 14ms/step - loss: 0.0792 - acc: 0.9722 - val_loss: 0.0457 - val_acc: 0.9861\n",
            "Epoch 39/80\n",
            "18/18 [==============================] - 0s 14ms/step - loss: 0.0586 - acc: 0.9826 - val_loss: 0.0410 - val_acc: 0.9861\n",
            "Epoch 40/80\n",
            "18/18 [==============================] - 0s 16ms/step - loss: 0.0494 - acc: 0.9792 - val_loss: 0.0471 - val_acc: 0.9861\n",
            "Epoch 41/80\n",
            "18/18 [==============================] - 0s 14ms/step - loss: 0.0658 - acc: 0.9792 - val_loss: 0.0461 - val_acc: 0.9861\n",
            "Epoch 42/80\n",
            "18/18 [==============================] - 0s 16ms/step - loss: 0.0885 - acc: 0.9688 - val_loss: 0.0346 - val_acc: 0.9861\n",
            "Epoch 43/80\n",
            "18/18 [==============================] - 0s 13ms/step - loss: 0.0366 - acc: 0.9896 - val_loss: 0.0234 - val_acc: 0.9861\n",
            "Epoch 44/80\n",
            "18/18 [==============================] - 0s 14ms/step - loss: 0.0559 - acc: 0.9722 - val_loss: 0.0598 - val_acc: 0.9861\n",
            "Epoch 45/80\n",
            "18/18 [==============================] - 0s 16ms/step - loss: 0.0544 - acc: 0.9792 - val_loss: 0.0162 - val_acc: 0.9861\n",
            "Epoch 46/80\n",
            "18/18 [==============================] - 0s 14ms/step - loss: 0.0371 - acc: 0.9757 - val_loss: 0.0093 - val_acc: 1.0000\n",
            "Epoch 47/80\n",
            "18/18 [==============================] - 0s 14ms/step - loss: 0.0610 - acc: 0.9826 - val_loss: 0.0411 - val_acc: 0.9861\n",
            "Epoch 48/80\n",
            "18/18 [==============================] - 0s 16ms/step - loss: 0.0445 - acc: 0.9896 - val_loss: 0.0097 - val_acc: 1.0000\n",
            "Epoch 49/80\n",
            "18/18 [==============================] - 0s 14ms/step - loss: 0.0592 - acc: 0.9792 - val_loss: 0.0151 - val_acc: 0.9861\n",
            "Epoch 50/80\n",
            "18/18 [==============================] - 0s 16ms/step - loss: 0.0540 - acc: 0.9792 - val_loss: 0.0330 - val_acc: 0.9861\n",
            "Epoch 51/80\n",
            "18/18 [==============================] - 0s 14ms/step - loss: 0.0325 - acc: 0.9861 - val_loss: 0.0016 - val_acc: 1.0000\n",
            "Epoch 52/80\n",
            "18/18 [==============================] - 0s 14ms/step - loss: 0.0451 - acc: 0.9861 - val_loss: 0.0164 - val_acc: 0.9861\n",
            "Epoch 53/80\n",
            "18/18 [==============================] - 0s 16ms/step - loss: 0.0283 - acc: 0.9931 - val_loss: 0.0036 - val_acc: 1.0000\n",
            "Epoch 54/80\n",
            "18/18 [==============================] - 0s 16ms/step - loss: 0.0527 - acc: 0.9826 - val_loss: 0.0203 - val_acc: 0.9861\n",
            "Epoch 55/80\n",
            "18/18 [==============================] - 0s 16ms/step - loss: 0.0365 - acc: 0.9896 - val_loss: 0.0118 - val_acc: 0.9861\n",
            "Epoch 56/80\n",
            "18/18 [==============================] - 0s 14ms/step - loss: 0.0268 - acc: 0.9896 - val_loss: 0.0142 - val_acc: 0.9861\n",
            "Epoch 57/80\n",
            "18/18 [==============================] - 0s 14ms/step - loss: 0.0179 - acc: 0.9931 - val_loss: 4.9686e-04 - val_acc: 1.0000\n",
            "Epoch 58/80\n",
            "18/18 [==============================] - 0s 16ms/step - loss: 0.0386 - acc: 0.9861 - val_loss: 0.0068 - val_acc: 1.0000\n",
            "Epoch 59/80\n",
            "18/18 [==============================] - 0s 14ms/step - loss: 0.0456 - acc: 0.9861 - val_loss: 0.0149 - val_acc: 0.9861\n",
            "Epoch 60/80\n",
            "18/18 [==============================] - 0s 14ms/step - loss: 0.0261 - acc: 0.9861 - val_loss: 0.0148 - val_acc: 0.9861\n",
            "Epoch 61/80\n",
            "18/18 [==============================] - 0s 16ms/step - loss: 0.0102 - acc: 1.0000 - val_loss: 3.1452e-04 - val_acc: 1.0000\n",
            "Epoch 62/80\n",
            "18/18 [==============================] - 0s 14ms/step - loss: 0.0350 - acc: 0.9861 - val_loss: 0.0076 - val_acc: 1.0000\n",
            "Epoch 63/80\n",
            "18/18 [==============================] - 0s 14ms/step - loss: 0.0155 - acc: 0.9931 - val_loss: 9.2848e-04 - val_acc: 1.0000\n",
            "Epoch 64/80\n",
            "18/18 [==============================] - 0s 14ms/step - loss: 0.0160 - acc: 0.9931 - val_loss: 0.0044 - val_acc: 1.0000\n",
            "Epoch 65/80\n",
            "18/18 [==============================] - 0s 13ms/step - loss: 0.0480 - acc: 0.9861 - val_loss: 0.0142 - val_acc: 0.9861\n",
            "Epoch 66/80\n",
            "18/18 [==============================] - 0s 14ms/step - loss: 0.0144 - acc: 0.9965 - val_loss: 0.0077 - val_acc: 1.0000\n",
            "Epoch 67/80\n",
            "18/18 [==============================] - 0s 14ms/step - loss: 0.0239 - acc: 0.9861 - val_loss: 0.0141 - val_acc: 0.9861\n",
            "Epoch 68/80\n",
            "18/18 [==============================] - 0s 13ms/step - loss: 0.0102 - acc: 0.9931 - val_loss: 3.2205e-04 - val_acc: 1.0000\n",
            "Epoch 69/80\n",
            "18/18 [==============================] - 0s 14ms/step - loss: 0.0181 - acc: 0.9896 - val_loss: 0.0210 - val_acc: 0.9861\n",
            "Epoch 70/80\n",
            "18/18 [==============================] - 0s 14ms/step - loss: 0.0113 - acc: 0.9965 - val_loss: 0.0044 - val_acc: 1.0000\n",
            "Epoch 71/80\n",
            "18/18 [==============================] - 0s 14ms/step - loss: 0.0109 - acc: 0.9931 - val_loss: 0.0058 - val_acc: 1.0000\n",
            "Epoch 72/80\n",
            "18/18 [==============================] - 0s 14ms/step - loss: 0.0133 - acc: 0.9931 - val_loss: 0.0039 - val_acc: 1.0000\n",
            "Epoch 73/80\n",
            "18/18 [==============================] - 0s 13ms/step - loss: 0.0073 - acc: 1.0000 - val_loss: 0.0017 - val_acc: 1.0000\n",
            "Epoch 74/80\n",
            "18/18 [==============================] - 0s 14ms/step - loss: 0.0043 - acc: 1.0000 - val_loss: 0.0010 - val_acc: 1.0000\n",
            "Epoch 75/80\n",
            "18/18 [==============================] - 0s 14ms/step - loss: 0.0147 - acc: 0.9931 - val_loss: 0.0038 - val_acc: 1.0000\n",
            "Epoch 76/80\n",
            "18/18 [==============================] - 0s 14ms/step - loss: 0.0105 - acc: 0.9931 - val_loss: 0.0051 - val_acc: 1.0000\n",
            "Epoch 77/80\n",
            "18/18 [==============================] - 0s 16ms/step - loss: 0.0026 - acc: 1.0000 - val_loss: 1.2290e-04 - val_acc: 1.0000\n",
            "Epoch 78/80\n",
            "18/18 [==============================] - 0s 16ms/step - loss: 0.0023 - acc: 1.0000 - val_loss: 3.4024e-04 - val_acc: 1.0000\n",
            "Epoch 79/80\n",
            "18/18 [==============================] - 0s 14ms/step - loss: 0.0069 - acc: 0.9931 - val_loss: 0.0012 - val_acc: 1.0000\n",
            "Epoch 80/80\n",
            "18/18 [==============================] - 0s 16ms/step - loss: 0.0034 - acc: 1.0000 - val_loss: 4.1374e-04 - val_acc: 1.0000\n"
          ]
        }
      ]
    },
    {
      "cell_type": "markdown",
      "source": [
        "## Loss and Fit"
      ],
      "metadata": {
        "id": "6YMMUFOBzeEf"
      }
    },
    {
      "cell_type": "markdown",
      "source": [
        "Model Loss"
      ],
      "metadata": {
        "id": "Mf0ZtrTZP87W"
      }
    },
    {
      "cell_type": "code",
      "source": [
        "plt.plot(history_conv.history['loss'])\n",
        "plt.plot(history_conv.history['val_loss'])\n",
        "plt.title('model loss')\n",
        "plt.ylabel('loss')\n",
        "plt.xlabel('epoch')\n",
        "plt.legend(['train loss', 'val loss'], loc='upper left')\n",
        "plt.show()"
      ],
      "metadata": {
        "colab": {
          "base_uri": "https://localhost:8080/",
          "height": 295
        },
        "id": "P_C_kP6DP1ES",
        "outputId": "7fd38c45-6733-4245-f571-73897fa07edd"
      },
      "execution_count": 35,
      "outputs": [
        {
          "output_type": "display_data",
          "data": {
            "text/plain": [
              "<Figure size 432x288 with 1 Axes>"
            ],
            "image/png": "[encoded data removed]"
          },
          "metadata": {
            "needs_background": "light"
          }
        }
      ]
    },
    {
      "cell_type": "markdown",
      "source": [
        "## Plot the confuson matrix\n"
      ],
      "metadata": {
        "id": "pyxFdrc8TWAA"
      }
    },
    {
      "cell_type": "markdown",
      "source": [
        "Model Accuracy"
      ],
      "metadata": {
        "id": "eI8K28qkP4ru"
      }
    },
    {
      "cell_type": "code",
      "source": [
        "plt.plot(history_conv.history['acc'])\n",
        "plt.plot(history_conv.history['val_acc'])\n",
        "plt.title('model accuracy')\n",
        "plt.ylabel('accuracy (%)')\n",
        "plt.xlabel('epoch')\n",
        "plt.legend(['train accuracy', 'val accuracy'], loc='upper left')\n",
        "plt.show()"
      ],
      "metadata": {
        "colab": {
          "base_uri": "https://localhost:8080/",
          "height": 295
        },
        "id": "pagvUkb2P4E8",
        "outputId": "6b53f5dd-3b08-434e-e82c-ea4fd626fe5b"
      },
      "execution_count": 36,
      "outputs": [
        {
          "output_type": "display_data",
          "data": {
            "text/plain": [
              "<Figure size 432x288 with 1 Axes>"
            ],
            "image/png": "[encoded data removed]"
          },
          "metadata": {
            "needs_background": "light"
          }
        }
      ]
    },
    {
      "cell_type": "markdown",
      "source": [
        "# Test Model\n"
      ],
      "metadata": {
        "id": "_nlFz_FETMdr"
      }
    },
    {
      "cell_type": "code",
      "source": [
        "from ipywidgets import interact\n",
        "import ipywidgets as ipywidgets"
      ],
      "metadata": {
        "id": "DdHeoyrXTIZ9"
      },
      "execution_count": 48,
      "outputs": []
    },
    {
      "cell_type": "code",
      "source": [
        "# Display images in the training data set. \n",
        "def displayImage(index):\n",
        "  img = X_dataset[index]\n",
        "  \n",
        "  img_aug = np.expand_dims(img, axis=0)\n",
        "  # print(conv_model.predict(img_aug)[0])\n",
        "  y_predict = conv_model.predict(img_aug)[0]\n",
        "  \n",
        "  plt.imshow(img) \n",
        "  # print( np.max(y_predict))\n",
        "\n",
        "  print(one_hot_rev(int(y_predict. argmax())))\n",
        "\n",
        "displayImage(7)"
      ],
      "metadata": {
        "colab": {
          "base_uri": "https://localhost:8080/",
          "height": 470
        },
        "id": "TJ0CoE2qRzIa",
        "outputId": "c0bf97c7-d830-4345-dd4b-2d0c2bdbc38f"
      },
      "execution_count": 63,
      "outputs": [
        {
          "output_type": "stream",
          "name": "stdout",
          "text": [
            "[1.03847420e-09 1.05353892e-09 2.71302024e-13 1.38325237e-11\n",
            " 9.33765652e-12 8.94218657e-11 1.36120848e-09 1.77810155e-10\n",
            " 9.44258893e-09 1.04980646e-08 3.13747778e-10 3.17172070e-13\n",
            " 8.62395919e-11 3.38401562e-13 5.51208454e-11 2.97996675e-12\n",
            " 3.32296204e-11 1.08237925e-08 8.41904111e-08 1.19929511e-10\n",
            " 1.09890042e-15 6.63112230e-12 4.08118456e-10 8.14157275e-09\n",
            " 5.92825455e-10 1.52105095e-09 7.71413211e-11 1.27331274e-08\n",
            " 9.99995470e-01 2.49565035e-09 2.71846599e-08 1.68433734e-09\n",
            " 3.30092981e-10 3.78350319e-06 7.39262607e-09 6.12862038e-07]\n",
            "0.99999547\n",
            "3\n"
          ]
        },
        {
          "output_type": "display_data",
          "data": {
            "text/plain": [
              "<Figure size 432x288 with 1 Axes>"
            ],
            "image/png": "[encoded data removed]"
          },
          "metadata": {
            "needs_background": "light"
          }
        }
      ]
    },
    {
      "cell_type": "code",
      "metadata": {
        "colab": {
          "base_uri": "https://localhost:8080/",
          "height": 341
        },
        "id": "twDd8RNJtmAD",
        "outputId": "a8c1b848-e3ae-4cf9-8991-27c2fef79d21"
      },
      "source": [
        "from google.colab import drive\n",
        "drive.mount('/content/drive')"
      ],
      "execution_count": 37,
      "outputs": [
        {
          "output_type": "error",
          "ename": "KeyboardInterrupt",
          "evalue": "ignored",
          "traceback": [
            "\u001b[0;31m---------------------------------------------------------------------------\u001b[0m",
            "\u001b[0;31mKeyboardInterrupt\u001b[0m                         Traceback (most recent call last)",
            "\u001b[0;32m<ipython-input-37-d5df0069828e>\u001b[0m in \u001b[0;36m<module>\u001b[0;34m\u001b[0m\n\u001b[1;32m      1\u001b[0m \u001b[0;32mfrom\u001b[0m \u001b[0mgoogle\u001b[0m\u001b[0;34m.\u001b[0m\u001b[0mcolab\u001b[0m \u001b[0;32mimport\u001b[0m \u001b[0mdrive\u001b[0m\u001b[0;34m\u001b[0m\u001b[0;34m\u001b[0m\u001b[0m\n\u001b[0;32m----> 2\u001b[0;31m \u001b[0mdrive\u001b[0m\u001b[0;34m.\u001b[0m\u001b[0mmount\u001b[0m\u001b[0;34m(\u001b[0m\u001b[0;34m'/content/drive'\u001b[0m\u001b[0;34m)\u001b[0m\u001b[0;34m\u001b[0m\u001b[0;34m\u001b[0m\u001b[0m\n\u001b[0m",
            "\u001b[0;32m/usr/local/lib/python3.7/dist-packages/google/colab/drive.py\u001b[0m in \u001b[0;36mmount\u001b[0;34m(mountpoint, force_remount, timeout_ms)\u001b[0m\n\u001b[1;32m    103\u001b[0m       \u001b[0mforce_remount\u001b[0m\u001b[0;34m=\u001b[0m\u001b[0mforce_remount\u001b[0m\u001b[0;34m,\u001b[0m\u001b[0;34m\u001b[0m\u001b[0;34m\u001b[0m\u001b[0m\n\u001b[1;32m    104\u001b[0m       \u001b[0mtimeout_ms\u001b[0m\u001b[0;34m=\u001b[0m\u001b[0mtimeout_ms\u001b[0m\u001b[0;34m,\u001b[0m\u001b[0;34m\u001b[0m\u001b[0;34m\u001b[0m\u001b[0m\n\u001b[0;32m--> 105\u001b[0;31m       ephemeral=True)\n\u001b[0m\u001b[1;32m    106\u001b[0m \u001b[0;34m\u001b[0m\u001b[0m\n\u001b[1;32m    107\u001b[0m \u001b[0;34m\u001b[0m\u001b[0m\n",
            "\u001b[0;32m/usr/local/lib/python3.7/dist-packages/google/colab/drive.py\u001b[0m in \u001b[0;36m_mount\u001b[0;34m(mountpoint, force_remount, timeout_ms, ephemeral)\u001b[0m\n\u001b[1;32m    118\u001b[0m   \u001b[0;32mif\u001b[0m \u001b[0mephemeral\u001b[0m\u001b[0;34m:\u001b[0m\u001b[0;34m\u001b[0m\u001b[0;34m\u001b[0m\u001b[0m\n\u001b[1;32m    119\u001b[0m     _message.blocking_request(\n\u001b[0;32m--> 120\u001b[0;31m         'request_auth', request={'authType': 'dfs_ephemeral'}, timeout_sec=None)\n\u001b[0m\u001b[1;32m    121\u001b[0m \u001b[0;34m\u001b[0m\u001b[0m\n\u001b[1;32m    122\u001b[0m   \u001b[0mmountpoint\u001b[0m \u001b[0;34m=\u001b[0m \u001b[0m_os\u001b[0m\u001b[0;34m.\u001b[0m\u001b[0mpath\u001b[0m\u001b[0;34m.\u001b[0m\u001b[0mexpanduser\u001b[0m\u001b[0;34m(\u001b[0m\u001b[0mmountpoint\u001b[0m\u001b[0;34m)\u001b[0m\u001b[0;34m\u001b[0m\u001b[0;34m\u001b[0m\u001b[0m\n",
            "\u001b[0;32m/usr/local/lib/python3.7/dist-packages/google/colab/_message.py\u001b[0m in \u001b[0;36mblocking_request\u001b[0;34m(request_type, request, timeout_sec, parent)\u001b[0m\n\u001b[1;32m    169\u001b[0m   request_id = send_request(\n\u001b[1;32m    170\u001b[0m       request_type, request, parent=parent, expect_reply=True)\n\u001b[0;32m--> 171\u001b[0;31m   \u001b[0;32mreturn\u001b[0m \u001b[0mread_reply_from_input\u001b[0m\u001b[0;34m(\u001b[0m\u001b[0mrequest_id\u001b[0m\u001b[0;34m,\u001b[0m \u001b[0mtimeout_sec\u001b[0m\u001b[0;34m)\u001b[0m\u001b[0;34m\u001b[0m\u001b[0;34m\u001b[0m\u001b[0m\n\u001b[0m",
            "\u001b[0;32m/usr/local/lib/python3.7/dist-packages/google/colab/_message.py\u001b[0m in \u001b[0;36mread_reply_from_input\u001b[0;34m(message_id, timeout_sec)\u001b[0m\n\u001b[1;32m     95\u001b[0m     \u001b[0mreply\u001b[0m \u001b[0;34m=\u001b[0m \u001b[0m_read_next_input_message\u001b[0m\u001b[0;34m(\u001b[0m\u001b[0;34m)\u001b[0m\u001b[0;34m\u001b[0m\u001b[0;34m\u001b[0m\u001b[0m\n\u001b[1;32m     96\u001b[0m     \u001b[0;32mif\u001b[0m \u001b[0mreply\u001b[0m \u001b[0;34m==\u001b[0m \u001b[0m_NOT_READY\u001b[0m \u001b[0;32mor\u001b[0m \u001b[0;32mnot\u001b[0m \u001b[0misinstance\u001b[0m\u001b[0;34m(\u001b[0m\u001b[0mreply\u001b[0m\u001b[0;34m,\u001b[0m \u001b[0mdict\u001b[0m\u001b[0;34m)\u001b[0m\u001b[0;34m:\u001b[0m\u001b[0;34m\u001b[0m\u001b[0;34m\u001b[0m\u001b[0m\n\u001b[0;32m---> 97\u001b[0;31m       \u001b[0mtime\u001b[0m\u001b[0;34m.\u001b[0m\u001b[0msleep\u001b[0m\u001b[0;34m(\u001b[0m\u001b[0;36m0.025\u001b[0m\u001b[0;34m)\u001b[0m\u001b[0;34m\u001b[0m\u001b[0;34m\u001b[0m\u001b[0m\n\u001b[0m\u001b[1;32m     98\u001b[0m       \u001b[0;32mcontinue\u001b[0m\u001b[0;34m\u001b[0m\u001b[0;34m\u001b[0m\u001b[0m\n\u001b[1;32m     99\u001b[0m     if (reply.get('type') == 'colab_reply' and\n",
            "\u001b[0;31mKeyboardInterrupt\u001b[0m: "
          ]
        }
      ]
    },
    {
      "cell_type": "code",
      "metadata": {
        "id": "Uz0wwzOPHV58"
      },
      "source": [],
      "execution_count": null,
      "outputs": []
    }
  ]
}